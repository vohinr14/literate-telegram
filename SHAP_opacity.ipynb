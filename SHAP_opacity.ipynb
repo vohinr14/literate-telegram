{
 "cells": [
  {
   "cell_type": "code",
   "execution_count": null,
   "id": "03d7c331-c5fc-4a05-b74e-39a952e5d55e",
   "metadata": {},
   "outputs": [
    {
     "name": "stderr",
     "output_type": "stream",
     "text": [
      "Using `tqdm.autonotebook.tqdm` in notebook mode. Use `tqdm.tqdm` instead to force console mode (e.g. in jupyter console)\n",
      "2023-07-17 21:29:13.324316: I tensorflow/core/platform/cpu_feature_guard.cc:182] This TensorFlow binary is optimized to use available CPU instructions in performance-critical operations.\n",
      "To enable the following instructions: AVX2 AVX512F AVX512_VNNI FMA, in other operations, rebuild TensorFlow with the appropriate compiler flags.\n",
      "`tf.keras.backend.set_learning_phase` is deprecated and will be removed after 2020-10-11. To update it, simply pass a True/False value to the `training` argument of the `__call__` method of your layer or model.\n",
      "keras is no longer supported, please use tf.keras instead.\n",
      "Your TensorFlow version is newer than 2.4.0 and so graph support has been removed in eager mode and some static graphs may not be supported. See PR #1483 for discussion.\n"
     ]
    }
   ],
   "source": [
    "import os\n",
    "import shap\n",
    "import numpy as np\n",
    "import cv2\n",
    "import tensorflow as tf\n",
    "import pickle\n",
    "\n",
    "# Load the trained model\n",
    "loaded_model = tf.keras.models.load_model('64x3-CNN.model')\n",
    "\n",
    "# Set the learning phase to False\n",
    "tf.keras.backend.set_learning_phase(0)\n",
    "\n",
    "# Prepare the data\n",
    "DATADIR = \"/Users/rohinv/Downloads/archive/test\"\n",
    "CATEGORIES = [\"normal\", \"opacity\"]\n",
    "\n",
    "# Filter only the opacity images\n",
    "opacity_path = os.path.join(DATADIR, CATEGORIES[1])\n",
    "opacity_images = [os.path.join(opacity_path, img) for img in os.listdir(opacity_path)]\n",
    "\n",
    "# Choose an image for explanation (specify the index of the image you want to analyze)\n",
    "image_index = 0  # Change this to the index of the image you want to analyze\n",
    "img_path = opacity_images[image_index]\n",
    "\n",
    "img_array = cv2.imread(img_path, cv2.IMREAD_GRAYSCALE)\n",
    "image = cv2.resize(img_array, (300, 300))\n",
    "image = image.reshape((-1, 300, 300, 1))\n",
    "image = image.astype('float32') / 255.0\n",
    "\n",
    "# Update the model call\n",
    "output = loaded_model(image, training=False)\n",
    "\n",
    "# Load a smaller subset of the training data for reference\n",
    "pickle_in = open(\"X.pickle\", \"rb\")\n",
    "X = pickle.load(pickle_in)\n",
    "reference_data = X[:50]  # Adjust the subset size as per your needs\n",
    "\n",
    "# Create the explainer and generate SHAP values\n",
    "explainer = shap.DeepExplainer(loaded_model, reference_data)\n",
    "shap_values = explainer.shap_values(image)"
   ]
  },
  {
   "cell_type": "code",
   "execution_count": null,
   "id": "b7a613bd-fcdd-4482-9ab4-4dc712db9e93",
   "metadata": {},
   "outputs": [],
   "source": []
  }
 ],
 "metadata": {
  "kernelspec": {
   "display_name": "Python 3 (ipykernel)",
   "language": "python",
   "name": "python3"
  },
  "language_info": {
   "codemirror_mode": {
    "name": "ipython",
    "version": 3
   },
   "file_extension": ".py",
   "mimetype": "text/x-python",
   "name": "python",
   "nbconvert_exporter": "python",
   "pygments_lexer": "ipython3",
   "version": "3.9.12"
  }
 },
 "nbformat": 4,
 "nbformat_minor": 5
}
